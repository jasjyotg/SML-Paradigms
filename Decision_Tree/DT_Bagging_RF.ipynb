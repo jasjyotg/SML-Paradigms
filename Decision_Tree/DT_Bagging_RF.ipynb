{
 "cells": [
  {
   "cell_type": "markdown",
   "id": "d184d80c-ebed-44d6-bc9f-7f421bae6224",
   "metadata": {},
   "source": [
    "# PART 1 : BUILDING AND BAGGING A DECISION TREE\n",
    "- Firstly , we create a class for making a decision tree , with functions defined to simulate the recursive binary splitting procedure\n",
    "- Since this task requires us to classify input data into 2 categories, we choose the gini index to calculate the best possible split , minimizing it at every turn\n",
    "- We implement 2 stopping conditions , the number of data points per region , and the maximum depth of tree , both of which are inputted when the class instance is created\n",
    "- We make the decision tree which handles splitting based on both types of features : numerical and categorical\n",
    "- numpy and pandas libraries have been used to work with input data , given in the form of a matrix\n",
    "  "
   ]
  },
  {
   "cell_type": "code",
   "execution_count": 12,
   "id": "9149b6ee-52f8-4af7-9133-d8e9b630db89",
   "metadata": {},
   "outputs": [],
   "source": [
    "# imports\n",
    "import numpy as np\n",
    "import pandas as pd\n",
    "import matplotlib.pyplot as plt"
   ]
  },
  {
   "cell_type": "code",
   "execution_count": 13,
   "id": "35227042-3607-42cf-b65a-a98e6543c6f9",
   "metadata": {},
   "outputs": [],
   "source": [
    "# creating the gini impurity function , for calulating gini index for a region\n",
    "def gini(y):\n",
    "    classes , counts = np.unique(y,return_counts = True)\n",
    "    prob = counts/counts.sum()\n",
    "    ans = 0\n",
    "    for i in prob:\n",
    "        ans+= (i*(1-i))\n",
    "    return ans"
   ]
  },
  {
   "cell_type": "markdown",
   "id": "d278e3db-85e5-4c9f-b64f-a0c95938d123",
   "metadata": {},
   "source": [
    "## Making the DECISION TREE and training it on given dataset : Q3"
   ]
  },
  {
   "cell_type": "code",
   "execution_count": 14,
   "id": "e1c8e046-fe2b-4496-a55a-c98438163f82",
   "metadata": {},
   "outputs": [],
   "source": [
    "# creating a decision tree\n",
    "class DecisionTree_Classifier:\n",
    "    def __init__(self,max_depth = 3,min_samples_region = 2):\n",
    "        self.max_depth = max_depth\n",
    "        self.min_samples_region = min_samples_region\n",
    "        self.tree = None\n",
    "    def best_split(self,X,y): # calculates best split given 1 region (splits it into 2)\n",
    "        best_feature , value , best_gini , best_split = None , None , gini(y) , None\n",
    "        for feature in X.columns:\n",
    "            if X[feature].dtype == \"object\": #categorical feature\n",
    "                values = X[feature].unique()\n",
    "                for val in values:\n",
    "                    left_mask = X[feature]==val\n",
    "                    right_mask = ~left_mask\n",
    "                    if left_mask.sum()<self.min_samples_region or right_mask.sum()<self.min_samples_region:\n",
    "                        continue\n",
    "                    left_gini = gini(y[left_mask])\n",
    "                    right_gini = gini(y[right_mask])\n",
    "                    overall_gini = (left_mask.sum()/len(y))*left_gini + (right_mask.sum()/len(y))*right_gini\n",
    "                    if overall_gini <best_gini:\n",
    "                        best_feature , value , best_gini  = feature , val , overall_gini\n",
    "                        best_split = (X[left_mask], y[left_mask], X[right_mask], y[right_mask])\n",
    "            else: #numerical feature\n",
    "                sorted_f = X[feature].sort_values().unique()\n",
    "                for i in range(len(sorted_f) -1):\n",
    "                    val = (sorted_f[i] + sorted_f[i + 1]) / 2\n",
    "                    left_mask = X[feature]<=val\n",
    "                    right_mask = ~left_mask\n",
    "                    if left_mask.sum()<self.min_samples_region or right_mask.sum()<self.min_samples_region:\n",
    "                        continue\n",
    "                    left_gini = gini(y[left_mask])\n",
    "                    right_gini = gini(y[right_mask])\n",
    "                    overall_gini = (left_mask.sum()/len(y))*left_gini + (right_mask.sum()/len(y))*right_gini\n",
    "                    if overall_gini <best_gini:\n",
    "                        best_feature , value , best_gini  = feature , val , overall_gini\n",
    "                        best_split = (X[left_mask], y[left_mask], X[right_mask], y[right_mask])\n",
    "        return best_feature , value , best_split\n",
    "    def build_tree(self,X,y,depth = 0):\n",
    "        best_feature, best_threshold, best_splits = self.best_split(X, y)\n",
    "        if best_feature is None:\n",
    "            return y.mode()[0]\n",
    "        \n",
    "        left_X, left_y, right_X, right_y = best_splits\n",
    "        return {\n",
    "            'feature': best_feature,\n",
    "            'threshold': best_threshold,\n",
    "            'left': self.build_tree(left_X, left_y, depth + 1),\n",
    "            'right': self.build_tree(right_X, right_y, depth + 1)\n",
    "        }\n",
    "    def build_tree_rf(self,X,y,depth = 0):\n",
    "        # choosing 2 random features (rf)\n",
    "        features = X.columns.to_numpy()\n",
    "        random_2_features = np.random.choice(features,size = 2 , replace = False)\n",
    "        X_reduced = X[random_2_features]\n",
    "        best_feature, best_threshold, best_splits = self.best_split(X_reduced, y)\n",
    "        if best_feature is None:\n",
    "            return y.mode()[0]\n",
    "        \n",
    "        left_X, left_y, right_X, right_y = best_splits\n",
    "        # Recover full X using indices\n",
    "        left_X = X.loc[left_X.index]  # Use the original X\n",
    "        right_X = X.loc[right_X.index]\n",
    "        return {\n",
    "            'feature': best_feature,\n",
    "            'threshold': best_threshold,\n",
    "            'left': self.build_tree_rf(left_X, left_y, depth + 1),\n",
    "            'right': self.build_tree_rf(right_X, right_y, depth + 1)\n",
    "        }\n",
    "        \n",
    "    def train(self,X,y):\n",
    "        self.tree = self.build_tree(X,y)\n",
    "    def train_rf(self,X,y):\n",
    "        self.tree = self.build_tree_rf(X,y)\n",
    "    def predict_new_sample(self,x,node):\n",
    "        if not isinstance(node,dict):\n",
    "            return node #leaf reached\n",
    "        if isinstance(node['threshold'],str): #categorical node\n",
    "            if x[node['feature']] == node['threshold']:\n",
    "                return self.predict_new_sample(x,node['left'])\n",
    "            else:\n",
    "                return self.predict_new_sample(x,node['right'])\n",
    "        else:\n",
    "            if x[node['feature']] <= node['threshold']:\n",
    "                return self.predict_new_sample(x, node['left'])\n",
    "            else:\n",
    "                return self.predict_new_sample(x, node['right'])\n",
    "        \n",
    "        "
   ]
  },
  {
   "cell_type": "code",
   "execution_count": 15,
   "id": "2b1f26f4-08ae-46b2-9051-257c519d823d",
   "metadata": {},
   "outputs": [
    {
     "name": "stdout",
     "output_type": "stream",
     "text": [
      "{'feature': 'Income', 'threshold': 'High', 'left': 'No', 'right': {'feature': 'Age', 'threshold': 47.5, 'left': 'Yes', 'right': 'No'}}\n"
     ]
    }
   ],
   "source": [
    "data = pd.DataFrame({\n",
    "    'Age': [25, 30, 35, 40, 45, 50, 55, 60],\n",
    "    'Income': ['High', 'High', 'Medium', 'Low', 'Low', 'Low', 'Medium', 'High'],\n",
    "    'Student': ['No', 'No', 'No', 'No', 'Yes', 'Yes', 'Yes', 'No'],\n",
    "    'Credit': ['Fair', 'Excellent', 'Fair', 'Fair', 'Fair', 'Excellent', 'Excellent', 'Fair'],\n",
    "    'BuyComputer': ['No', 'No', 'Yes', 'Yes', 'Yes', 'No', 'Yes', 'No']\n",
    "})\n",
    "X_train = data.drop(columns = ['BuyComputer'])\n",
    "y_train = data['BuyComputer']\n",
    "\n",
    "dt = DecisionTree_Classifier(max_depth = 3, min_samples_region = 2)\n",
    "dt.train(X_train,y_train)\n",
    "print(dt.tree)"
   ]
  },
  {
   "cell_type": "markdown",
   "id": "a96233ea-a888-4459-a01e-8897b895b282",
   "metadata": {},
   "source": [
    "### PREDICTION ON GIVEN TEST SAMPLE"
   ]
  },
  {
   "cell_type": "code",
   "execution_count": 16,
   "id": "dcbe8426-eae3-4e26-9ca2-25abc27ccda0",
   "metadata": {},
   "outputs": [
    {
     "name": "stdout",
     "output_type": "stream",
     "text": [
      "Yes\n"
     ]
    }
   ],
   "source": [
    "test_x = {'Age': [42], 'Income': ['Low'], 'Student': ['No'], 'Credit': ['Excellent']}\n",
    "ans = dt.predict_new_sample(test_x,dt.tree)\n",
    "print(ans)"
   ]
  },
  {
   "cell_type": "markdown",
   "id": "962de6ca-3c1e-45a7-aa38-90059465383a",
   "metadata": {},
   "source": [
    "## BAGGING 10 TREES + USING ONLY 2 RANDOM FEATURES FOR EACH TREE : RANDOM FOREST : Q4"
   ]
  },
  {
   "cell_type": "code",
   "execution_count": 6,
   "id": "4b5d51a5-a752-41a9-b50b-a5ffb1e4da99",
   "metadata": {},
   "outputs": [
    {
     "name": "stdout",
     "output_type": "stream",
     "text": [
      "{'feature': 'Income', 'threshold': 'High', 'left': 'No', 'right': {'feature': 'Age', 'threshold': 47.5, 'left': 'Yes', 'right': 'No'}}\n",
      "\n",
      "{'feature': 'Income', 'threshold': 'Medium', 'left': 'Yes', 'right': 'No'}\n",
      "\n",
      "{'feature': 'Income', 'threshold': 'Low', 'left': 'Yes', 'right': 'No'}\n",
      "\n",
      "{'feature': 'Age', 'threshold': 32.5, 'left': 'No', 'right': 'Yes'}\n",
      "\n",
      "{'feature': 'Age', 'threshold': 30.0, 'left': 'No', 'right': {'feature': 'Age', 'threshold': 47.5, 'left': 'Yes', 'right': 'No'}}\n",
      "\n",
      "{'feature': 'Income', 'threshold': 'Medium', 'left': 'Yes', 'right': {'feature': 'Age', 'threshold': 45.0, 'left': 'No', 'right': 'No'}}\n",
      "\n",
      "{'feature': 'Income', 'threshold': 'High', 'left': 'No', 'right': 'Yes'}\n",
      "\n",
      "{'feature': 'Income', 'threshold': 'High', 'left': 'No', 'right': 'Yes'}\n",
      "\n",
      "{'feature': 'Age', 'threshold': 32.5, 'left': 'No', 'right': {'feature': 'Age', 'threshold': 47.5, 'left': 'Yes', 'right': 'No'}}\n",
      "\n",
      "{'feature': 'Income', 'threshold': 'High', 'left': 'No', 'right': 'Yes'}\n",
      "\n"
     ]
    }
   ],
   "source": [
    "# creating a list of 10 dictionaries to store the 10 decision trees\n",
    "bagging = [[0]*2 for _ in range(10)] \n",
    "for i in range(10):\n",
    "    X_reduced = X_train\n",
    "    # Sample rows with replacement (bootstrap sampling)\n",
    "    sampled_indices = np.random.choice(X_reduced.index, size=len(X_reduced), replace=True)\n",
    "    X_reduced = X_reduced.loc[sampled_indices]\n",
    "    y_sampled = y_train.loc[sampled_indices]  # Align y_train with sampled X\n",
    "    X_reduced = X_train.loc[sampled_indices].reset_index(drop=True)  # Reset index\n",
    "    y_sampled = y_train.loc[sampled_indices].reset_index(drop=True)  # Reset index\n",
    "    \n",
    "    oob_indices = list(set(X_train.index) - set(sampled_indices))\n",
    "    X_oob = X_train.loc[oob_indices]\n",
    "    y_oob = y_train.loc[oob_indices]\n",
    "    \n",
    "    # Train the decision tree\n",
    "    bagging[i][0] = DecisionTree_Classifier(max_depth=4, min_samples_region=2)\n",
    "    bagging[i][0].train(X_reduced, y_sampled)\n",
    "    bagging[i][1] = (X_oob,y_oob)\n",
    "for i in range(10):\n",
    "    print(bagging[i][0].tree)\n",
    "    print()"
   ]
  },
  {
   "cell_type": "code",
   "execution_count": 7,
   "id": "3ac09253-c43a-4382-81b0-b08f1f46706d",
   "metadata": {},
   "outputs": [
    {
     "name": "stdout",
     "output_type": "stream",
     "text": [
      "{'feature': 'Income', 'threshold': 'Medium', 'left': 'Yes', 'right': {'feature': 'Credit', 'threshold': 'Fair', 'left': 'No', 'right': 'No'}}\n",
      "\n",
      "{'feature': 'Income', 'threshold': 'High', 'left': 'No', 'right': {'feature': 'Age', 'threshold': 47.5, 'left': 'Yes', 'right': 'No'}}\n",
      "\n",
      "{'feature': 'Income', 'threshold': 'High', 'left': 'No', 'right': {'feature': 'Credit', 'threshold': 'Fair', 'left': 'Yes', 'right': 'Yes'}}\n",
      "\n",
      "{'feature': 'Income', 'threshold': 'High', 'left': 'No', 'right': 'Yes'}\n",
      "\n",
      "{'feature': 'Income', 'threshold': 'High', 'left': 'No', 'right': {'feature': 'Credit', 'threshold': 'Excellent', 'left': 'No', 'right': 'Yes'}}\n",
      "\n",
      "{'feature': 'Age', 'threshold': 30.0, 'left': 'No', 'right': 'Yes'}\n",
      "\n",
      "{'feature': 'Age', 'threshold': 32.5, 'left': 'No', 'right': {'feature': 'Student', 'threshold': 'No', 'left': 'Yes', 'right': 'No'}}\n",
      "\n",
      "{'feature': 'Age', 'threshold': 45.0, 'left': {'feature': 'Age', 'threshold': 37.5, 'left': 'No', 'right': 'Yes'}, 'right': 'No'}\n",
      "\n",
      "{'feature': 'Student', 'threshold': 'No', 'left': 'Yes', 'right': 'Yes'}\n",
      "\n",
      "{'feature': 'Credit', 'threshold': 'Fair', 'left': 'Yes', 'right': 'No'}\n",
      "\n"
     ]
    }
   ],
   "source": [
    "# creating a list of 10 dictionaries to store the 10 decision trees\n",
    "random_forest = [[0]*2 for _ in range(10)] \n",
    "for i in range(10):\n",
    "    X_reduced = X_train\n",
    "    # Sample rows with replacement (bootstrap sampling)\n",
    "    sampled_indices = np.random.choice(X_reduced.index, size=len(X_reduced), replace=True)\n",
    "    X_reduced = X_reduced.loc[sampled_indices]\n",
    "    y_sampled = y_train.loc[sampled_indices]  # Align y_train with sampled X\n",
    "    X_reduced = X_train.loc[sampled_indices].reset_index(drop=True)  # Reset index\n",
    "    y_sampled = y_train.loc[sampled_indices].reset_index(drop=True)  # Reset index\n",
    "    \n",
    "    oob_indices = list(set(X_train.index) - set(sampled_indices))\n",
    "    X_oob = X_train.loc[oob_indices]\n",
    "    y_oob = y_train.loc[oob_indices]\n",
    "    \n",
    "    # Train the decision tree\n",
    "    random_forest[i][0] = DecisionTree_Classifier(max_depth=4, min_samples_region=2)\n",
    "    random_forest[i][0].train_rf(X_reduced, y_sampled)\n",
    "    random_forest[i][1] = (X_oob,y_oob)\n",
    "for i in range(10):\n",
    "    print(random_forest[i][0].tree)\n",
    "    print()"
   ]
  },
  {
   "cell_type": "code",
   "execution_count": 8,
   "id": "5db65bc8-7a83-49ee-81ec-6bed74fe07e1",
   "metadata": {},
   "outputs": [],
   "source": [
    "from collections import Counter\n",
    "# defining function for bagged trees and input test sample to predict output\n",
    "def predict_bag(random_forest,x):\n",
    "    pred = [\"\"]*len(random_forest)\n",
    "    for i in range(len(random_forest)):\n",
    "        pred[i] = random_forest[i][0].predict_new_sample(x,random_forest[i][0].tree)\n",
    "    final_pred = Counter(pred).most_common(1)[0][0]\n",
    "    print(pred)\n",
    "    return final_pred\n",
    "    "
   ]
  },
  {
   "cell_type": "code",
   "execution_count": 9,
   "id": "be9cacd2-b83d-48fd-a720-83c15e71a25a",
   "metadata": {},
   "outputs": [
    {
     "name": "stdout",
     "output_type": "stream",
     "text": [
      "['No', 'No', 'Yes', 'Yes', 'No', 'Yes', 'Yes', 'No', 'Yes', 'No']\n",
      "Final Prediction(rf) :  No\n",
      "['No', 'No', 'Yes', 'Yes', 'No', 'No', 'Yes', 'Yes', 'No', 'Yes']\n",
      "final prediction(bagging) :  No\n"
     ]
    }
   ],
   "source": [
    "new_sample = {'Age': 49, 'Income': 'Low', 'Student': 'No', 'Credit': 'Excellent'}\n",
    "prediction = predict_bag(random_forest, new_sample)\n",
    "print(\"Final Prediction(rf) : \", prediction)\n",
    "prediction = predict_bag(bagging, new_sample)\n",
    "\n",
    "print(\"final prediction(bagging) : \",prediction)"
   ]
  },
  {
   "cell_type": "markdown",
   "id": "e9ccb8fe-434a-43a8-b3fc-a4ecb5024764",
   "metadata": {},
   "source": [
    "## COMPUTING OUT OF BAG ERROR"
   ]
  },
  {
   "cell_type": "code",
   "execution_count": 10,
   "id": "6e50d13b-df58-40c3-a292-19976507b54e",
   "metadata": {},
   "outputs": [
    {
     "name": "stdout",
     "output_type": "stream",
     "text": [
      "OOB error for tree 0: 0.2500\n",
      "OOB error for tree 1: 0.5000\n",
      "OOB error for tree 2: 0.0000\n",
      "OOB error for tree 3: 0.5000\n",
      "OOB error for tree 4: 0.5000\n",
      "OOB error for tree 5: 0.6667\n",
      "OOB error for tree 6: 1.0000\n",
      "OOB error for tree 7: 0.3333\n",
      "OOB error for tree 8: 1.0000\n",
      "OOB error for tree 9: 0.3333\n",
      "\n",
      "AVG OOB ERROR(RANDOM FOREST) : 0.5083333333333333\n"
     ]
    }
   ],
   "source": [
    "oob_error = [0] * 10\n",
    "# Function to compute the OOB error for each tree (random forest)\n",
    "for i in range(10):\n",
    "    tree = random_forest[i][0]  \n",
    "    X_oob = random_forest[i][1][0]  \n",
    "    y_oob = random_forest[i][1][1]     \n",
    "    # Iterate over each OOB sample and predict using tree\n",
    "    for j in range(len(X_oob)):\n",
    "        # Predict the class for the current OOB sample\n",
    "        predicted_class = tree.predict_new_sample(X_oob.iloc[j], tree.tree)\n",
    "        # Compare with the true label\n",
    "        if predicted_class != y_oob.iloc[j]:\n",
    "            oob_error[i] += 1\n",
    "    oob_error[i] = oob_error[i] / len(X_oob)\n",
    "for i in range(10):\n",
    "    print(f\"OOB error for tree {i}: {oob_error[i]:.4f}\")\n",
    "print()\n",
    "print(\"AVG OOB ERROR(RANDOM FOREST) :\" , sum(oob_error)/len(oob_error))"
   ]
  },
  {
   "cell_type": "code",
   "execution_count": 11,
   "id": "6635f2db-fd17-485b-aba9-e0d808c3d0b7",
   "metadata": {},
   "outputs": [
    {
     "ename": "ZeroDivisionError",
     "evalue": "division by zero",
     "output_type": "error",
     "traceback": [
      "\u001b[1;31m---------------------------------------------------------------------------\u001b[0m",
      "\u001b[1;31mZeroDivisionError\u001b[0m                         Traceback (most recent call last)",
      "Cell \u001b[1;32mIn[11], line 14\u001b[0m\n\u001b[0;32m     12\u001b[0m         \u001b[38;5;28;01mif\u001b[39;00m predicted_class \u001b[38;5;241m!=\u001b[39m y_oob\u001b[38;5;241m.\u001b[39miloc[j]:\n\u001b[0;32m     13\u001b[0m             oob_error[i] \u001b[38;5;241m+\u001b[39m\u001b[38;5;241m=\u001b[39m \u001b[38;5;241m1\u001b[39m\n\u001b[1;32m---> 14\u001b[0m     oob_error[i] \u001b[38;5;241m=\u001b[39m oob_error[i] \u001b[38;5;241m/\u001b[39m \u001b[38;5;28mlen\u001b[39m(X_oob)\n\u001b[0;32m     15\u001b[0m \u001b[38;5;28;01mfor\u001b[39;00m i \u001b[38;5;129;01min\u001b[39;00m \u001b[38;5;28mrange\u001b[39m(\u001b[38;5;241m10\u001b[39m):\n\u001b[0;32m     16\u001b[0m     \u001b[38;5;28mprint\u001b[39m(\u001b[38;5;124mf\u001b[39m\u001b[38;5;124m\"\u001b[39m\u001b[38;5;124mOOB error for tree \u001b[39m\u001b[38;5;132;01m{\u001b[39;00mi\u001b[38;5;132;01m}\u001b[39;00m\u001b[38;5;124m: \u001b[39m\u001b[38;5;132;01m{\u001b[39;00moob_error[i]\u001b[38;5;132;01m:\u001b[39;00m\u001b[38;5;124m.4f\u001b[39m\u001b[38;5;132;01m}\u001b[39;00m\u001b[38;5;124m\"\u001b[39m)\n",
      "\u001b[1;31mZeroDivisionError\u001b[0m: division by zero"
     ]
    }
   ],
   "source": [
    "oob_error = [0] * 10\n",
    "# Function to compute the OOB error for each tree (random forest)\n",
    "for i in range(10):\n",
    "    tree = bagging[i][0]  \n",
    "    X_oob = bagging[i][1][0]  \n",
    "    y_oob = bagging[i][1][1]     \n",
    "    # Iterate over each OOB sample and predict using tree\n",
    "    for j in range(len(X_oob)):\n",
    "        # Predict the class for the current OOB sample\n",
    "        predicted_class = tree.predict_new_sample(X_oob.iloc[j], tree.tree)\n",
    "        # Compare with the true label\n",
    "        if predicted_class != y_oob.iloc[j]:\n",
    "            oob_error[i] += 1\n",
    "    oob_error[i] = oob_error[i] / len(X_oob)\n",
    "for i in range(10):\n",
    "    print(f\"OOB error for tree {i}: {oob_error[i]:.4f}\")\n",
    "print()\n",
    "print(\"AVG OOB ERROR(BAGGING) :\" , sum(oob_error)/len(oob_error))"
   ]
  },
  {
   "cell_type": "markdown",
   "id": "4969e04e-6dea-45ef-8fc5-467ae4e33b22",
   "metadata": {},
   "source": [
    "## PART 2 : PERFORMING POLYNOMIAL REGRESSION USING CROSS VALIDATION : Q5"
   ]
  },
  {
   "cell_type": "code",
   "execution_count": 12,
   "id": "be3c1c34-e7b1-4b99-bd7f-b2440316e07f",
   "metadata": {},
   "outputs": [],
   "source": [
    "# producing data\n",
    "# Set seed for reproducibility\n",
    "np.random.seed(42)\n",
    "x = np.linspace(0, 2 * np.pi, 100)\n",
    "noise = np.random.normal(0, 0.1, size=x.shape)\n",
    "y = np.sin(x) + noise"
   ]
  },
  {
   "cell_type": "code",
   "execution_count": 13,
   "id": "23ad8aca-1f41-4d8d-8623-ec01a20a8bdc",
   "metadata": {},
   "outputs": [],
   "source": [
    "def cross_val(X,y,seed,k = 5):\n",
    "    fold_size = X.shape[0]//k\n",
    "    np.random.seed(seed)\n",
    "    ind = np.arange(X.shape[0])\n",
    "    np.random.shuffle(ind)\n",
    "    X_shuff = X[ind]\n",
    "    y_shuff = y[ind]\n",
    "    folds = []\n",
    "    for i in range(k):\n",
    "        start = i*fold_size\n",
    "        end = start + fold_size\n",
    "        folds.append((X_shuff[start:end],y_shuff[start:end]))\n",
    "    return folds"
   ]
  },
  {
   "cell_type": "code",
   "execution_count": 14,
   "id": "78a45288-ee11-4902-8b12-8cb2075c69f7",
   "metadata": {},
   "outputs": [],
   "source": [
    "def eval_train_test_error(folds):\n",
    "    avg_train_error = 0\n",
    "    avg_test_error = 0\n",
    "    for i in range(len(folds)): #hold ith fold , use rest for training\n",
    "        test_X,test_y = folds[i]\n",
    "        train_X = np.vstack([folds[j][0] for j in range(len(folds)) if j != i])\n",
    "        train_y = np.hstack([folds[j][1] for j in range(len(folds)) if j != i])\n",
    "        W = np.linalg.inv(train_X.T @ train_X) @ train_X.T @ train_y\n",
    "        avg_train_error += np.mean((train_y - train_X@W)**2)\n",
    "        avg_test_error += np.mean((test_y - test_X@W)**2)\n",
    "    avg_train_error/=len(folds)\n",
    "    avg_test_error/=len(folds)\n",
    "    return avg_train_error,avg_test_error,W"
   ]
  },
  {
   "cell_type": "code",
   "execution_count": 15,
   "id": "2ae9d592-9ffd-4aa5-a2c0-ac1df8f62ac6",
   "metadata": {},
   "outputs": [],
   "source": [
    "# creating and evaluation of models\n",
    "models = [0] * 4\n",
    "x_reshape = x.reshape(-1, 1)  # (100,1)\n",
    "# 1-degree\n",
    "X_1 = np.c_[x_reshape, np.ones((x_reshape.shape[0], 1))]\n",
    "models[0] = eval_train_test_error(cross_val(X_1,y,42,5))\n",
    "# 2-degree\n",
    "X_2 = np.c_[x_reshape ** 2, x_reshape, np.ones((x_reshape.shape[0], 1))]\n",
    "models[1] = eval_train_test_error(cross_val(X_2,y,42,5))\n",
    "# 3-degree\n",
    "X_3 = np.c_[x_reshape ** 3, x_reshape ** 2, x_reshape, np.ones((x_reshape.shape[0], 1))]\n",
    "models[2] = eval_train_test_error(cross_val(X_3,y,42,5))\n",
    "# 4-degree\n",
    "X_4 = np.c_[x_reshape ** 4, x_reshape ** 3, x_reshape ** 2, x_reshape, np.ones((x_reshape.shape[0], 1))]\n",
    "models[3] = eval_train_test_error(cross_val(X_4,y,42,5))"
   ]
  },
  {
   "cell_type": "code",
   "execution_count": 16,
   "id": "7652f30b-e957-463c-a694-c8c69c72774b",
   "metadata": {},
   "outputs": [
    {
     "name": "stdout",
     "output_type": "stream",
     "text": [
      "Degree : 1 -\n",
      "Avg training error :  0.19342695919042815\n",
      "Avg validation error :  0.19748264839776103\n",
      "Degree : 2 -\n",
      "Avg training error :  0.19082021515798658\n",
      "Avg validation error :  0.2225628759617428\n",
      "Degree : 3 -\n",
      "Avg training error :  0.012526400645691072\n",
      "Avg validation error :  0.01409431022268342\n",
      "Degree : 4 -\n",
      "Avg training error :  0.012328449292436072\n",
      "Avg validation error :  0.015454564246899496\n"
     ]
    }
   ],
   "source": [
    "for i in range(4):\n",
    "    print(\"Degree :\", i+1 ,\"-\")\n",
    "    print(\"Avg training error : \" , models[i][0])\n",
    "    print(\"Avg validation error : \" , models[i][1])"
   ]
  },
  {
   "cell_type": "markdown",
   "id": "bf201339-c12b-476e-9983-21fef06a2d31",
   "metadata": {},
   "source": [
    "### based off of these error metrics , we conclude that degree 3 is the polynomial degree to be used "
   ]
  },
  {
   "cell_type": "code",
   "execution_count": 17,
   "id": "309327b5-2db3-4310-9bce-14774d0d8ee1",
   "metadata": {},
   "outputs": [
    {
     "data": {
      "image/png": "[encoded data removed]",
      "text/plain": [
       "<Figure size 1000x600 with 1 Axes>"
      ]
     },
     "metadata": {},
     "output_type": "display_data"
    }
   ],
   "source": [
    "# Generate x values\n",
    "x_smooth = x.reshape(-1,1)\n",
    "\n",
    "# Create polynomial features for degree 3\n",
    "X_poly = np.c_[x_smooth ** 3, x_smooth ** 2, x_smooth, np.ones((x_smooth.shape[0], 1))]\n",
    "\n",
    "# Extract the weight vector for degree 3 polynomial\n",
    "W = models[2][2]  # Index 2 corresponds to degree 3\n",
    "\n",
    "# Compute predictions\n",
    "y_pred = X_poly @ W\n",
    "\n",
    "# Plot\n",
    "plt.figure(figsize=(10, 6))\n",
    "plt.scatter(x, y, label=\"Noisy Data\", color='b', s=10)  # Noisy Data\n",
    "plt.plot(x, np.sin(x), label=\"True Function\", color='r', linestyle=\"dashed\")  # True Function\n",
    "plt.plot(x_smooth, y_pred, color=\"green\", label=\"Degree 3 Fit\", linewidth=2)  # Degree 3 polynomial\n",
    "\n",
    "# Customize plot\n",
    "plt.xlabel(\"x\")\n",
    "plt.ylabel(\"y\")\n",
    "plt.legend()\n",
    "plt.title(\"Original Data + Degree 3 Polynomial Fit\")\n",
    "plt.show()"
   ]
  },
  {
   "cell_type": "code",
   "execution_count": null,
   "id": "2899e0d6-97e5-4cc8-825e-daa9eca29c62",
   "metadata": {},
   "outputs": [],
   "source": []
  }
 ],
 "metadata": {
  "kernelspec": {
   "display_name": "Python 3 (ipykernel)",
   "language": "python",
   "name": "python3"
  },
  "language_info": {
   "codemirror_mode": {
    "name": "ipython",
    "version": 3
   },
   "file_extension": ".py",
   "mimetype": "text/x-python",
   "name": "python",
   "nbconvert_exporter": "python",
   "pygments_lexer": "ipython3",
   "version": "3.11.7"
  }
 },
 "nbformat": 4,
 "nbformat_minor": 5
}
