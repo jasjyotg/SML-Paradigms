{
 "cells": [
  {
   "cell_type": "markdown",
   "id": "c5cd7dc4-114c-4992-8c72-6bc9e6c56105",
   "metadata": {},
   "source": [
    "## FUNCTIONS AND IMPORTS"
   ]
  },
  {
   "cell_type": "code",
   "execution_count": 1,
   "id": "633287a0-ce65-4015-9f2f-5812d63d1989",
   "metadata": {},
   "outputs": [],
   "source": [
    "import numpy as np\n",
    "import struct\n",
    "from scipy.linalg import eigh\n",
    "import matplotlib.pyplot as plt"
   ]
  },
  {
   "cell_type": "code",
   "execution_count": 2,
   "id": "be186309-d9ae-4cf9-9e9d-cba074b4ab3f",
   "metadata": {},
   "outputs": [],
   "source": [
    "def load_mnist_images(filename):\n",
    "    \"\"\"Load MNIST images from a .idx3-ubyte file.\"\"\"\n",
    "    with open(filename, \"rb\") as f:\n",
    "        magic, num_images, num_rows, num_cols = struct.unpack(\">IIII\", f.read(16))  # Read header\n",
    "        images = np.frombuffer(f.read(), dtype=np.uint8)  # Read all pixel values\n",
    "        images = images.reshape(num_images, num_rows, num_cols)  # Reshape to (num_images, 28, 28)\n",
    "    return images\n",
    "\n",
    "def load_mnist_labels(filename):\n",
    "    \"\"\"Load MNIST labels from a .idx1-ubyte file.\"\"\"\n",
    "    with open(filename, \"rb\") as f:\n",
    "        magic, num_labels = struct.unpack(\">II\", f.read(8))  # Read header\n",
    "        labels = np.frombuffer(f.read(), dtype=np.uint8)  # Read all labels\n",
    "    return labels\n",
    "# sampling data (100 each for train and test both)\n",
    "def sample_n_per_class(X, Y, classes, n=100):\n",
    "    \"\"\"Randomly samples `n` images from each class in `classes`.\"\"\"\n",
    "    sampled_X, sampled_Y = [], []\n",
    "\n",
    "    for digit in classes:\n",
    "        indices = np.where(Y == digit)[0]  # Get indices of the class\n",
    "        sampled_indices = np.random.choice(indices, n, replace=False)  # Randomly select `n`\n",
    "        sampled_X.append(X[sampled_indices])  # Store selected images\n",
    "        sampled_Y.append(Y[sampled_indices])  # Store corresponding labels\n",
    "\n",
    "    # Convert lists to NumPy arrays\n",
    "    return np.concatenate(sampled_X, axis=0), np.concatenate(sampled_Y, axis=0)\n",
    "def gi_QDA_case3(mean , cov , x):\n",
    "    mean = np.asarray(mean).reshape(-1, 1)\n",
    "    cov = np.asarray(cov)\n",
    "    x = np.asarray(x).reshape(-1, 1)\n",
    "    \n",
    "    diff = x - mean\n",
    "    inv_cov = np.linalg.inv(cov)\n",
    "    log_det = np.linalg.slogdet(cov)[1]  # Stable log determinant\n",
    "    mahalanobis_dist = diff.T @ inv_cov @ diff  # Squared Mahalanobis distance\n",
    "    \n",
    "    return -0.5 * mahalanobis_dist - 0.5 * log_det\n",
    "def gi_LDA_case2(mean , cov ,x):\n",
    "    inv_cov = np.linalg.inv(cov)\n",
    "    return ((inv_cov @ mean).T) @ x - 0.5 * mean.T @ inv_cov @ mean\n",
    "import numpy as np\n",
    "\n",
    "def compute_mean_and_covariance(data):\n",
    "    data = np.real(data)  # Convert to real values\n",
    "    d, n = data.shape  \n",
    "    mean = np.sum(data, axis=1, keepdims=True) / n  \n",
    "\n",
    "    covariance = np.zeros((d, d), dtype=np.float64)  # Ensure float64 type\n",
    "    for i in range(n):\n",
    "        diff = (data[:, i].reshape(d, 1) - mean)  \n",
    "        covariance += diff @ diff.T  \n",
    "    \n",
    "    covariance /= (n - 1)  \n",
    "    return mean, covariance\n",
    "\n",
    "\n",
    "def gaussian(x, u, cov, inv, det):\n",
    "    d = x.shape[0]\n",
    "    u = u.reshape(d)\n",
    "    a = (x - u).reshape(d, 1)\n",
    "    delta = 1e-6 \n",
    "    cov = cov + delta * np.eye(cov.shape[0])\n",
    "    if det == 0:\n",
    "        det = np.e**(-15)\n",
    "    log_det = np.log(det)\n",
    "\n",
    "    # Corrected Mahalanobis distance computation\n",
    "    mahalanobis = (a.T @ inv @ a).item()  # Extract scalar from 1x1 matrix\n",
    "\n",
    "    # Return log P(x) (without constant terms)\n",
    "    return -0.5 * (mahalanobis + log_det)\n"
   ]
  },
  {
   "cell_type": "markdown",
   "id": "bb205687-e146-427d-899d-8fe3131c56cd",
   "metadata": {},
   "source": [
    "## LOADING AND SAMPLING DATA"
   ]
  },
  {
   "cell_type": "code",
   "execution_count": 3,
   "id": "a3d4703e-b813-4c6b-84ce-f79447505302",
   "metadata": {},
   "outputs": [
    {
     "name": "stdout",
     "output_type": "stream",
     "text": [
      "Train Images: (60000, 28, 28), Train Labels: (60000,)\n",
      "Test Images: (10000, 28, 28), Test Labels: (10000,)\n",
      "Train Images: (18623, 784), Train Labels: (18623,)\n",
      "Test Images: (3147, 784), Test Labels: (3147,)\n"
     ]
    }
   ],
   "source": [
    "# Load training data\n",
    "train_X = load_mnist_images(\"C:/Users/gulat_4p/Downloads/mnist/train-images.idx3-ubyte\")\n",
    "train_Y = load_mnist_labels(\"C:/Users/gulat_4p/Downloads/mnist/train-labels.idx1-ubyte\")\n",
    "\n",
    "# Load test data\n",
    "test_X = load_mnist_images(\"C:/Users/gulat_4p/Downloads/mnist/t10k-images.idx3-ubyte\")\n",
    "test_y = load_mnist_labels(\"C:/Users/gulat_4p/Downloads/mnist/t10k-labels.idx1-ubyte\")\n",
    "\n",
    "# Check shapes\n",
    "print(f\"Train Images: {train_X.shape}, Train Labels: {train_Y.shape}\")\n",
    "print(f\"Test Images: {test_X.shape}, Test Labels: {test_y.shape}\")\n",
    "mask = np.isin(train_Y,[0,1,2])\n",
    "train_X = train_X[mask]\n",
    "train_Y = train_Y[mask]\n",
    "mask = np.isin(test_y,[0,1,2])\n",
    "test_X = test_X[mask]\n",
    "test_y = test_y[mask]\n",
    "# flattening of images with numpy + noramlizing (0-1)\n",
    "train_X = train_X.reshape(train_X.shape[0],28*28)/255.0\n",
    "test_X = test_X.reshape(test_X.shape[0],28*28)/255.0\n",
    "print(f\"Train Images: {train_X.shape}, Train Labels: {train_Y.shape}\")\n",
    "print(f\"Test Images: {test_X.shape}, Test Labels: {test_y.shape}\")"
   ]
  },
  {
   "cell_type": "code",
   "execution_count": 4,
   "id": "5d4cc4a5-a79d-4882-8d56-87a6d56b05e2",
   "metadata": {},
   "outputs": [
    {
     "name": "stdout",
     "output_type": "stream",
     "text": [
      "Sampled Train X shape: (300, 784)\n",
      "Sampled Train Y shape: (300,)\n",
      "Sampled Test X shape: (300, 784)\n",
      "Sampled Test Y shape: (300,)\n"
     ]
    }
   ],
   "source": [
    "# Sample from train set\n",
    "sampled_train_X, sampled_train_Y = sample_n_per_class(train_X, train_Y, classes=[0, 1, 2], n=100)\n",
    "# Sample from test set\n",
    "sampled_test_X, sampled_test_Y = sample_n_per_class(test_X, test_y, classes=[0, 1, 2], n=100)\n",
    "# Print the final shapes\n",
    "print(\"Sampled Train X shape:\", sampled_train_X.shape)  # (300, 784) after flattening\n",
    "print(\"Sampled Train Y shape:\", sampled_train_Y.shape)  # (300,)\n",
    "print(\"Sampled Test X shape:\", sampled_test_X.shape)  # (300, 784) after flattening\n",
    "print(\"Sampled Test Y shape:\", sampled_test_Y.shape)  # (300,)"
   ]
  },
  {
   "cell_type": "code",
   "execution_count": 5,
   "id": "70f1e4b0-65e5-4181-84c1-681428715dce",
   "metadata": {},
   "outputs": [],
   "source": [
    "PCA_2d_train_X = sampled_train_X\n",
    "PCA_2d_train_Y = sampled_train_Y\n",
    "PCA_2d_test_X = sampled_test_X\n",
    "PCA_2d_test_Y = sampled_test_Y"
   ]
  },
  {
   "cell_type": "markdown",
   "id": "c1e8f235-ef6f-48bf-98ce-cfb9e5fc821b",
   "metadata": {},
   "source": [
    "## COMPUTING MLE ESTIMATES \n",
    "The MLE for a distribution coming from a multivariate gaussian distribution is given by: $$\\hat \\mu =  \\frac{1}{m} \\sum_{i=1}^m \\mathbf{  x^{(i)} } = \\mathbf{\\bar{x}}$$\n",
    "$$\\hat \\Sigma  = \\frac{1}{m} \\sum_{i=1}^m \\mathbf{(x^{(i)} - \\hat \\mu) (x^{(i)} -\\hat  \\mu)}^T$$"
   ]
  },
  {
   "cell_type": "code",
   "execution_count": 6,
   "id": "9684a25c-90c7-40a6-ab08-697a2f014aa4",
   "metadata": {},
   "outputs": [],
   "source": [
    "# splitting data matrix into per class data matrices\n",
    "X_0 = sampled_train_X[sampled_train_Y == 0]\n",
    "X_1 = sampled_train_X[sampled_train_Y == 1]\n",
    "X_2 = sampled_train_X[sampled_train_Y == 2]\n",
    "mean_MLE_0 = np.zeros((784,))\n",
    "mean_MLE_1 = np.zeros((784,))\n",
    "mean_MLE_2 = np.zeros((784,))\n",
    "cov_MLE_0 = np.zeros((784,784))\n",
    "cov_MLE_1 = np.zeros((784,784))\n",
    "cov_MLE_2 = np.zeros((784,784))\n",
    "# computing MLE mean and covariance of given data (per class)\n",
    "for i in range(100):\n",
    "    mean_MLE_0 += X_0[i]\n",
    "    mean_MLE_1 += X_1[i]\n",
    "    mean_MLE_2 += X_2[i]\n",
    "mean_MLE_0/=100.0\n",
    "mean_MLE_1/=100.0\n",
    "mean_MLE_2/=100.0\n",
    "for i in range(100):\n",
    "    cov_MLE_0 += (X_0[i] - mean_MLE_0) @ (X_0[i] - mean_MLE_0).T\n",
    "    cov_MLE_1 += (X_1[i] - mean_MLE_1) @ (X_1[i] - mean_MLE_1).T\n",
    "    cov_MLE_2 += (X_2[i] - mean_MLE_2) @ (X_2[i] - mean_MLE_2).T\n",
    "cov_MLE_0/=100.0\n",
    "cov_MLE_1/=100.0\n",
    "cov_MLE_2/=100.0"
   ]
  },
  {
   "cell_type": "code",
   "execution_count": 7,
   "id": "2a65bf31-8ab8-4e1c-b6e8-2301296e7878",
   "metadata": {},
   "outputs": [],
   "source": [
    "MLE_train_X = sampled_train_X.T\n",
    "MLE_test_X = sampled_test_X.T"
   ]
  },
  {
   "cell_type": "code",
   "execution_count": 8,
   "id": "4a11fa83-aa60-43f6-b0e6-c783978a2bcc",
   "metadata": {},
   "outputs": [],
   "source": [
    "cov_MLE_0_inv = np.linalg.inv(cov_MLE_0+0.0001*np.eye(784))\n",
    "cov_MLE_1_inv = np.linalg.inv(cov_MLE_1+0.0001*np.eye(784))\n",
    "cov_MLE_2_inv = np.linalg.inv(cov_MLE_2+0.0001*np.eye(784))\n",
    "cov_MLE_0_det = np.linalg.det(cov_MLE_0+0.0001*np.eye(784))\n",
    "cov_MLE_1_det = np.linalg.det(cov_MLE_1+0.0001*np.eye(784))\n",
    "cov_MLE_2_det = np.linalg.det(cov_MLE_2+0.0001*np.eye(784))\n",
    "mle_accuracy_train = 0\n",
    "mle_accuracy_test = 0\n",
    "for i in range(300):\n",
    "    P0 = gaussian(MLE_train_X[:,i], mean_MLE_0,cov_MLE_0,cov_MLE_0_inv,cov_MLE_0_det)\n",
    "    P1 = gaussian(MLE_train_X[:,i], mean_MLE_1,cov_MLE_1,cov_MLE_1_inv,cov_MLE_1_det)\n",
    "    P2 = gaussian(MLE_train_X[:,i], mean_MLE_2,cov_MLE_2,cov_MLE_2_inv,cov_MLE_2_det)\n",
    "    predicted_class = np.argmax([P0, P1, P2])\n",
    "    true_class = sampled_train_Y[i]\n",
    "    if predicted_class == true_class:\n",
    "            mle_accuracy_train += 1\n",
    "    P0 = gaussian(MLE_test_X[:,i], mean_MLE_0,cov_MLE_0,cov_MLE_0_inv,cov_MLE_0_det)\n",
    "    P1 = gaussian(MLE_test_X[:,i], mean_MLE_1,cov_MLE_1,cov_MLE_1_inv,cov_MLE_1_det)\n",
    "    P2 = gaussian(MLE_test_X[:,i], mean_MLE_2,cov_MLE_2,cov_MLE_2_inv,cov_MLE_2_det)\n",
    "    predicted_class = np.argmax([P0, P1, P2])\n",
    "    true_class = sampled_test_Y[i]\n",
    "    if predicted_class == true_class:\n",
    "            mle_accuracy_test += 1\n",
    "mle_accuracy_train/=300\n",
    "mle_accuracy_test/=300"
   ]
  },
  {
   "cell_type": "code",
   "execution_count": 9,
   "id": "d1e80f93-e34d-4d3b-97a7-db398276188f",
   "metadata": {},
   "outputs": [
    {
     "name": "stdout",
     "output_type": "stream",
     "text": [
      "MLE accuracy on training set:  0.94\n",
      "MLE accuracy on test set:  0.91\n"
     ]
    }
   ],
   "source": [
    "print(\"MLE accuracy on training set: \",mle_accuracy_train)\n",
    "print(\"MLE accuracy on test set: \",mle_accuracy_test)"
   ]
  },
  {
   "cell_type": "markdown",
   "id": "c1412447-2af1-4f52-9fd1-7326cc31e69a",
   "metadata": {},
   "source": [
    "## DIMENSIONALITY REDUCTION USING PCA \n",
    "Our data matrix is $X\\in R^{784^{*}300}$ , each column represents 1 sample."
   ]
  },
  {
   "cell_type": "markdown",
   "id": "972d529c-c72b-4b08-b8dd-4cf0339c6d56",
   "metadata": {},
   "source": [
    "### RETAINING 95 % VARIANCE"
   ]
  },
  {
   "cell_type": "code",
   "execution_count": 10,
   "id": "470cb64d-70a7-40d0-89f2-f5d223cce559",
   "metadata": {},
   "outputs": [],
   "source": [
    "PCA_X = sampled_train_X.T\n",
    "mean_X = np.zeros((784))\n",
    "for i in range(300):\n",
    "    mean_X += PCA_X[:,i]\n",
    "mean_X/=300\n",
    "PCA_X_c = PCA_X - mean_X.reshape(784,1)\n",
    "# Creating covariance matrix and getting the eigenvectors and values (sorted)\n",
    "Cov_c = (PCA_X_c) @ (PCA_X_c).T\n",
    "Cov_c/=(300-1)\n",
    "# obtaining eigenvalues\n",
    "eigenvalues , eigenvectors = np.linalg.eig(Cov_c)\n",
    "# Sort indices based on eigenvalues in descending order\n",
    "sorted_indices = np.argsort(eigenvalues)[::-1]  # Descending order\n",
    "# Sort eigenvalues & eigenvectors\n",
    "eigenvalues = eigenvalues[sorted_indices]\n",
    "eigenvectors = eigenvectors[:, sorted_indices]  # Columns correspond to eigenvalues"
   ]
  },
  {
   "cell_type": "code",
   "execution_count": 11,
   "id": "8222f19b-7f81-4676-97bb-a8c21fb4c287",
   "metadata": {},
   "outputs": [
    {
     "name": "stdout",
     "output_type": "stream",
     "text": [
      "(52.172005407224866+0j)\n"
     ]
    }
   ],
   "source": [
    "# retaining 95% variance, obtaining U accordingly (=eigenvector matrix)\n",
    "sum_ev = 0\n",
    "for i in range(784):\n",
    "    sum_ev+=eigenvalues[i]\n",
    "target_sum = 0.95 * sum_ev\n",
    "print(target_sum)\n",
    "sum_ev = 0\n",
    "for i in range(784):\n",
    "    sum_ev+=eigenvalues[i]\n",
    "    if sum_ev>target_sum:\n",
    "        break\n",
    "U = eigenvectors[:,:i+1]"
   ]
  },
  {
   "cell_type": "code",
   "execution_count": 12,
   "id": "c65e0c15-72f8-4e05-9a00-c89e63ac8455",
   "metadata": {},
   "outputs": [],
   "source": [
    "Y_PCA = U.T @ sampled_train_X.T  #PCA'd matrix\n",
    "Y_PCA_test = U.T @ (sampled_test_X.T) #Test matrix post PCA"
   ]
  },
  {
   "cell_type": "code",
   "execution_count": 13,
   "id": "5ea471b7-af4d-4fac-bb4e-7c0809705ac6",
   "metadata": {},
   "outputs": [],
   "source": [
    "sampled_train_X = sampled_train_X.T\n",
    "sampled_test_X = sampled_test_X.T"
   ]
  },
  {
   "cell_type": "code",
   "execution_count": 14,
   "id": "224fc93e-0d3d-46d7-873f-072aafe35a2d",
   "metadata": {},
   "outputs": [],
   "source": [
    "Y_PCA_0 = (Y_PCA.T[sampled_train_Y == 0]).T\n",
    "Y_PCA_1 = (Y_PCA.T[sampled_train_Y == 1]).T\n",
    "Y_PCA_2 = (Y_PCA.T[sampled_train_Y == 2]).T\n",
    "mean_PCA_0 , cov_PCA_0 = compute_mean_and_covariance(Y_PCA_0)\n",
    "mean_PCA_1 , cov_PCA_1 = compute_mean_and_covariance(Y_PCA_1)\n",
    "mean_PCA_2 , cov_PCA_2 = compute_mean_and_covariance(Y_PCA_2)"
   ]
  },
  {
   "cell_type": "code",
   "execution_count": 15,
   "id": "c3304747-f28e-4b6e-9d99-47930c3e5f54",
   "metadata": {},
   "outputs": [],
   "source": [
    "# applying lDA on PCA'd train set and test set\n",
    "cov_LDA_PCA = cov_PCA_0 + cov_PCA_1 + cov_PCA_2\n",
    "cov_LDA_PCA/=3.0\n",
    "accuracy_LDA_PCA_train = 0\n",
    "accuracy_LDA_PCA_test = 0\n",
    "for i in range(300):\n",
    "        g0 = gi_LDA_case2(mean_PCA_0, cov_LDA_PCA, Y_PCA[:,i])\n",
    "        g1 = gi_LDA_case2(mean_PCA_1, cov_LDA_PCA, Y_PCA[:,i])\n",
    "        g2 = gi_LDA_case2(mean_PCA_2, cov_LDA_PCA, Y_PCA[:,i])\n",
    "        \n",
    "        predicted_class = np.argmax([g0, g1, g2])\n",
    "        true_class = sampled_train_Y[i]  # Assuming a function to get true labels\n",
    "        \n",
    "        if predicted_class == true_class:\n",
    "            accuracy_LDA_PCA_train += 1\n",
    "        g0 = gi_LDA_case2(mean_PCA_0, cov_LDA_PCA, Y_PCA_test[:,i])\n",
    "        g1 = gi_LDA_case2(mean_PCA_1, cov_LDA_PCA, Y_PCA_test[:,i])\n",
    "        g2 = gi_LDA_case2(mean_PCA_2, cov_LDA_PCA, Y_PCA_test[:,i])\n",
    "        \n",
    "        predicted_class = np.argmax([g0, g1, g2])\n",
    "        true_class = sampled_test_Y[i]  # Assuming a function to get true labels\n",
    "        \n",
    "        if predicted_class == true_class:\n",
    "            accuracy_LDA_PCA_test += 1\n",
    "accuracy_LDA_PCA_train /= 300\n",
    "accuracy_LDA_PCA_test /= 300"
   ]
  },
  {
   "cell_type": "code",
   "execution_count": 16,
   "id": "d54f0533-5bc0-41fe-9d7b-37ba2228ee5b",
   "metadata": {},
   "outputs": [
    {
     "name": "stdout",
     "output_type": "stream",
     "text": [
      "PCA->LDA accuracy on training set:  0.9966666666666667\n",
      "PCA->LDA accuracy on test set:  0.9533333333333334\n"
     ]
    }
   ],
   "source": [
    "print(\"PCA->LDA accuracy on training set: \",accuracy_LDA_PCA_train)\n",
    "print(\"PCA->LDA accuracy on test set: \",accuracy_LDA_PCA_test)"
   ]
  },
  {
   "cell_type": "code",
   "execution_count": 17,
   "id": "9365d86a-5a8f-41b4-a3b9-b097d5d4da84",
   "metadata": {},
   "outputs": [],
   "source": [
    "#APPLYING qda on pca'd test/train set\n",
    "# applying QDA on PCA'd test set\n",
    "accuracy_QDA_PCA_test = 0\n",
    "accuracy_QDA_PCA_train = 0\n",
    "for i in range(300):\n",
    "        g0 = gi_QDA_case3(mean_PCA_0, cov_PCA_0, Y_PCA[:,i])\n",
    "        g1 = gi_QDA_case3(mean_PCA_1, cov_PCA_1, Y_PCA[:,i])\n",
    "        g2 = gi_QDA_case3(mean_PCA_2, cov_PCA_2, Y_PCA[:,i])\n",
    "        \n",
    "        predicted_class = np.argmax([g0, g1, g2])\n",
    "        true_class = sampled_train_Y[i]  # Assuming a function to get true labels\n",
    "        \n",
    "        if predicted_class == true_class:\n",
    "            accuracy_QDA_PCA_train += 1\n",
    "        g0 = gi_QDA_case3(mean_PCA_0, cov_PCA_0, Y_PCA_test[:,i])\n",
    "        g1 = gi_QDA_case3(mean_PCA_1, cov_PCA_1, Y_PCA_test[:,i])\n",
    "        g2 = gi_QDA_case3(mean_PCA_2, cov_PCA_2, Y_PCA_test[:,i])\n",
    "        \n",
    "        predicted_class = np.argmax([g0, g1, g2])\n",
    "        true_class = sampled_test_Y[i]  # Assuming a function to get true labels\n",
    "        \n",
    "        if predicted_class == true_class:\n",
    "            accuracy_QDA_PCA_test += 1\n",
    "accuracy_QDA_PCA_test /= 300\n",
    "accuracy_QDA_PCA_train /= 300"
   ]
  },
  {
   "cell_type": "code",
   "execution_count": 18,
   "id": "d3005e61-8caf-48aa-a203-3f17995b4444",
   "metadata": {},
   "outputs": [
    {
     "name": "stdout",
     "output_type": "stream",
     "text": [
      "PCA->QDA accuracy on training set:  1.0\n",
      "PCA->QDA accuracy on test set:  0.9233333333333333\n"
     ]
    }
   ],
   "source": [
    "print(\"PCA->QDA accuracy on training set: \",accuracy_QDA_PCA_train)\n",
    "print(\"PCA->QDA accuracy on test set: \",accuracy_QDA_PCA_test)"
   ]
  },
  {
   "cell_type": "markdown",
   "id": "1c5ca5cd-f4cb-4ef4-9929-53a9db9149cc",
   "metadata": {},
   "source": [
    "### RETAINING 90% VARIANCE"
   ]
  },
  {
   "cell_type": "code",
   "execution_count": 19,
   "id": "6fe0c4c5-9bd4-46a9-93de-2dc063eba809",
   "metadata": {},
   "outputs": [
    {
     "name": "stdout",
     "output_type": "stream",
     "text": [
      "(49.42611038579198+0j)\n"
     ]
    }
   ],
   "source": [
    "# retaining 90% variance, obtaining U accordingly (=eigenvector matrix)\n",
    "sum_ev = 0\n",
    "for i in range(784):\n",
    "    sum_ev+=eigenvalues[i]\n",
    "target_sum = 0.9 * sum_ev\n",
    "print(target_sum)\n",
    "sum_ev = 0\n",
    "for i in range(784):\n",
    "    sum_ev+=eigenvalues[i]\n",
    "    if sum_ev>target_sum:\n",
    "        break\n",
    "U = eigenvectors[:,:i+1]"
   ]
  },
  {
   "cell_type": "code",
   "execution_count": 20,
   "id": "907183ce-9240-4eab-98a6-45bb9dee9f81",
   "metadata": {},
   "outputs": [],
   "source": [
    "Y_PCA = U.T @ sampled_train_X  #PCA'd matrix\n",
    "Y_PCA_test = U.T @ sampled_test_X #PCA'd test matrix"
   ]
  },
  {
   "cell_type": "code",
   "execution_count": 21,
   "id": "b4063086-3898-48a4-8670-a2978a5955c1",
   "metadata": {},
   "outputs": [],
   "source": [
    "Y_PCA_0 = (Y_PCA.T[sampled_train_Y == 0]).T\n",
    "Y_PCA_1 = (Y_PCA.T[sampled_train_Y == 1]).T\n",
    "Y_PCA_2 = (Y_PCA.T[sampled_train_Y == 2]).T\n",
    "mean_PCA_0 , cov_PCA_0 = compute_mean_and_covariance(Y_PCA_0)\n",
    "mean_PCA_1 , cov_PCA_1 = compute_mean_and_covariance(Y_PCA_1)\n",
    "mean_PCA_2 , cov_PCA_2 = compute_mean_and_covariance(Y_PCA_2)\n"
   ]
  },
  {
   "cell_type": "code",
   "execution_count": 22,
   "id": "7418ef5f-bcab-4182-815b-ce5a6412cd97",
   "metadata": {},
   "outputs": [],
   "source": [
    "# applying lDA on PCA'd train set and test set\n",
    "cov_LDA_PCA = cov_PCA_0 + cov_PCA_1 + cov_PCA_2\n",
    "cov_LDA_PCA/=3.0\n",
    "accuracy_LDA_PCA_train = 0\n",
    "accuracy_LDA_PCA_test = 0\n",
    "for i in range(300):\n",
    "        g0 = gi_LDA_case2(mean_PCA_0, cov_LDA_PCA, Y_PCA[:,i])\n",
    "        g1 = gi_LDA_case2(mean_PCA_1, cov_LDA_PCA, Y_PCA[:,i])\n",
    "        g2 = gi_LDA_case2(mean_PCA_2, cov_LDA_PCA, Y_PCA[:,i])\n",
    "        \n",
    "        predicted_class = np.argmax([g0, g1, g2])\n",
    "        true_class = sampled_train_Y[i]  # Assuming a function to get true labels\n",
    "        \n",
    "        if predicted_class == true_class:\n",
    "            accuracy_LDA_PCA_train += 1\n",
    "        g0 = gi_LDA_case2(mean_PCA_0, cov_LDA_PCA, Y_PCA_test[:,i])\n",
    "        g1 = gi_LDA_case2(mean_PCA_1, cov_LDA_PCA, Y_PCA_test[:,i])\n",
    "        g2 = gi_LDA_case2(mean_PCA_2, cov_LDA_PCA, Y_PCA_test[:,i])\n",
    "        \n",
    "        predicted_class = np.argmax([g0, g1, g2])\n",
    "        true_class = sampled_test_Y[i]  # Assuming a function to get true labels\n",
    "        \n",
    "        if predicted_class == true_class:\n",
    "            accuracy_LDA_PCA_test += 1\n",
    "accuracy_LDA_PCA_train /= 300\n",
    "accuracy_LDA_PCA_test /= 300"
   ]
  },
  {
   "cell_type": "code",
   "execution_count": 23,
   "id": "c5ac02ec-bea8-48de-89e3-66b9304450c3",
   "metadata": {},
   "outputs": [
    {
     "name": "stdout",
     "output_type": "stream",
     "text": [
      "PCA->LDA accuracy on training set:  0.9966666666666667\n",
      "PCA->LDA accuracy on test set:  0.9633333333333334\n"
     ]
    }
   ],
   "source": [
    "print(\"PCA->LDA accuracy on training set: \",accuracy_LDA_PCA_train)\n",
    "print(\"PCA->LDA accuracy on test set: \",accuracy_LDA_PCA_test)"
   ]
  },
  {
   "cell_type": "code",
   "execution_count": 24,
   "id": "659e29ae-eb5c-4763-ab08-6d3ad4783279",
   "metadata": {},
   "outputs": [],
   "source": [
    "#APPLYING qda on pca'd test/train set\n",
    "# applying QDA on PCA'd test set\n",
    "accuracy_QDA_PCA_test = 0\n",
    "accuracy_QDA_PCA_train = 0\n",
    "for i in range(300):\n",
    "        g0 = gi_QDA_case3(mean_PCA_0, cov_PCA_0, Y_PCA[:,i])\n",
    "        g1 = gi_QDA_case3(mean_PCA_1, cov_PCA_1, Y_PCA[:,i])\n",
    "        g2 = gi_QDA_case3(mean_PCA_2, cov_PCA_2, Y_PCA[:,i])\n",
    "        \n",
    "        predicted_class = np.argmax([g0, g1, g2])\n",
    "        true_class = sampled_train_Y[i]  # Assuming a function to get true labels\n",
    "        \n",
    "        if predicted_class == true_class:\n",
    "            accuracy_QDA_PCA_train += 1\n",
    "        g0 = gi_QDA_case3(mean_PCA_0, cov_PCA_0, Y_PCA_test[:,i])\n",
    "        g1 = gi_QDA_case3(mean_PCA_1, cov_PCA_1, Y_PCA_test[:,i])\n",
    "        g2 = gi_QDA_case3(mean_PCA_2, cov_PCA_2, Y_PCA_test[:,i])\n",
    "        \n",
    "        predicted_class = np.argmax([g0, g1, g2])\n",
    "        true_class = sampled_test_Y[i]  # Assuming a function to get true labels\n",
    "        \n",
    "        if predicted_class == true_class:\n",
    "            accuracy_QDA_PCA_test += 1\n",
    "accuracy_QDA_PCA_test /= 300\n",
    "accuracy_QDA_PCA_train /= 300"
   ]
  },
  {
   "cell_type": "code",
   "execution_count": 25,
   "id": "1802b6b5-5dc4-4dfc-85c4-96951445eb33",
   "metadata": {},
   "outputs": [
    {
     "name": "stdout",
     "output_type": "stream",
     "text": [
      "PCA->QDA accuracy on training set:  1.0\n",
      "PCA->QDA accuracy on test set:  0.9633333333333334\n"
     ]
    }
   ],
   "source": [
    "print(\"PCA->QDA accuracy on training set: \",accuracy_QDA_PCA_train)\n",
    "print(\"PCA->QDA accuracy on test set: \",accuracy_QDA_PCA_test)"
   ]
  },
  {
   "cell_type": "markdown",
   "id": "f5966ed1-c91a-463c-9298-5e028dc0c64b",
   "metadata": {},
   "source": [
    "## USING ONLY FIRST 2 PRINCIPAL COMPONENTS"
   ]
  },
  {
   "cell_type": "code",
   "execution_count": 26,
   "id": "89079612-ba60-4feb-8d90-bb62d4df25ad",
   "metadata": {},
   "outputs": [],
   "source": [
    "U_2 = eigenvectors[:,:2]\n",
    "Y_PCA = U_2.T @ PCA_2d_train_X.T\n",
    "Y_PCA_test = U_2.T @ PCA_2d_test_X.T"
   ]
  },
  {
   "cell_type": "code",
   "execution_count": 27,
   "id": "6f1e934a-1fd4-4ef3-9bfa-b57cac9d5ea7",
   "metadata": {},
   "outputs": [],
   "source": [
    "Y_PCA_0 = (Y_PCA.T[sampled_train_Y == 0]).T\n",
    "Y_PCA_1 = (Y_PCA.T[sampled_train_Y == 1]).T\n",
    "Y_PCA_2 = (Y_PCA.T[sampled_train_Y == 2]).T\n",
    "mean_PCA_0 , cov_PCA_0 = compute_mean_and_covariance(Y_PCA_0)\n",
    "mean_PCA_1 , cov_PCA_1 = compute_mean_and_covariance(Y_PCA_1)\n",
    "mean_PCA_2 , cov_PCA_2 = compute_mean_and_covariance(Y_PCA_2)"
   ]
  },
  {
   "cell_type": "code",
   "execution_count": 28,
   "id": "fd6b2a9d-739b-4494-8eba-eabec7572633",
   "metadata": {},
   "outputs": [],
   "source": [
    "# applying lDA on PCA'd train set and test set\n",
    "cov_LDA_PCA = cov_PCA_0 + cov_PCA_1 + cov_PCA_2\n",
    "cov_LDA_PCA/=3.0\n",
    "accuracy_LDA_PCA_train = 0\n",
    "accuracy_LDA_PCA_test = 0\n",
    "for i in range(300):\n",
    "        g0 = gi_LDA_case2(mean_PCA_0, cov_LDA_PCA, Y_PCA[:,i])\n",
    "        g1 = gi_LDA_case2(mean_PCA_1, cov_LDA_PCA, Y_PCA[:,i])\n",
    "        g2 = gi_LDA_case2(mean_PCA_2, cov_LDA_PCA, Y_PCA[:,i])\n",
    "        \n",
    "        predicted_class = np.argmax([g0, g1, g2])\n",
    "        true_class = sampled_train_Y[i]  # Assuming a function to get true labels\n",
    "        \n",
    "        if predicted_class == true_class:\n",
    "            accuracy_LDA_PCA_train += 1\n",
    "        g0 = gi_LDA_case2(mean_PCA_0, cov_LDA_PCA, Y_PCA_test[:,i])\n",
    "        g1 = gi_LDA_case2(mean_PCA_1, cov_LDA_PCA, Y_PCA_test[:,i])\n",
    "        g2 = gi_LDA_case2(mean_PCA_2, cov_LDA_PCA, Y_PCA_test[:,i])\n",
    "        \n",
    "        predicted_class = np.argmax([g0, g1, g2])\n",
    "        true_class = sampled_test_Y[i]  # Assuming a function to get true labels\n",
    "        \n",
    "        if predicted_class == true_class:\n",
    "            accuracy_LDA_PCA_test += 1\n",
    "accuracy_LDA_PCA_train /= 300\n",
    "accuracy_LDA_PCA_test /= 300"
   ]
  },
  {
   "cell_type": "code",
   "execution_count": 29,
   "id": "c1459b21-4936-42f2-ae5e-71083c858e76",
   "metadata": {},
   "outputs": [
    {
     "name": "stdout",
     "output_type": "stream",
     "text": [
      "PCA->LDA accuracy on training set:  0.9166666666666666\n",
      "PCA->LDA accuracy on test set:  0.8633333333333333\n"
     ]
    }
   ],
   "source": [
    "print(\"PCA->LDA accuracy on training set: \",accuracy_LDA_PCA_train)\n",
    "print(\"PCA->LDA accuracy on test set: \",accuracy_LDA_PCA_test)"
   ]
  },
  {
   "cell_type": "code",
   "execution_count": 30,
   "id": "5591ad83-61a9-40b4-be62-dd14bd50a91c",
   "metadata": {},
   "outputs": [],
   "source": [
    "#APPLYING qda on pca'd test/train set\n",
    "# applying QDA on PCA'd test set\n",
    "accuracy_QDA_PCA_test = 0\n",
    "accuracy_QDA_PCA_train = 0\n",
    "for i in range(300):\n",
    "        g0 = gi_QDA_case3(mean_PCA_0, cov_PCA_0, Y_PCA[:,i])\n",
    "        g1 = gi_QDA_case3(mean_PCA_1, cov_PCA_1, Y_PCA[:,i])\n",
    "        g2 = gi_QDA_case3(mean_PCA_2, cov_PCA_2, Y_PCA[:,i])\n",
    "        \n",
    "        predicted_class = np.argmax([g0, g1, g2])\n",
    "        true_class = sampled_train_Y[i]  # Assuming a function to get true labels\n",
    "        \n",
    "        if predicted_class == true_class:\n",
    "            accuracy_QDA_PCA_train += 1\n",
    "        g0 = gi_QDA_case3(mean_PCA_0, cov_PCA_0, Y_PCA_test[:,i])\n",
    "        g1 = gi_QDA_case3(mean_PCA_1, cov_PCA_1, Y_PCA_test[:,i])\n",
    "        g2 = gi_QDA_case3(mean_PCA_2, cov_PCA_2, Y_PCA_test[:,i])\n",
    "        \n",
    "        predicted_class = np.argmax([g0, g1, g2])\n",
    "        true_class = sampled_test_Y[i]  # Assuming a function to get true labels\n",
    "        \n",
    "        if predicted_class == true_class:\n",
    "            accuracy_QDA_PCA_test += 1\n",
    "accuracy_QDA_PCA_test /= 300\n",
    "accuracy_QDA_PCA_train /= 300"
   ]
  },
  {
   "cell_type": "code",
   "execution_count": 31,
   "id": "17b372a3-dca8-4493-a498-eb21317a4fe0",
   "metadata": {},
   "outputs": [
    {
     "name": "stdout",
     "output_type": "stream",
     "text": [
      "PCA->QDA accuracy on training set:  0.94\n",
      "PCA->QDA accuracy on test set:  0.9\n"
     ]
    }
   ],
   "source": [
    "print(\"PCA->QDA accuracy on training set: \",accuracy_QDA_PCA_train)\n",
    "print(\"PCA->QDA accuracy on test set: \",accuracy_QDA_PCA_test)"
   ]
  },
  {
   "cell_type": "markdown",
   "id": "dba55b5b-2f29-4b77-8435-ab9c605eef05",
   "metadata": {},
   "source": [
    "## CLASS PROJECTION USING FDA"
   ]
  },
  {
   "cell_type": "code",
   "execution_count": 32,
   "id": "b81f7df7-9e87-480d-b77b-f1f23330dc21",
   "metadata": {},
   "outputs": [],
   "source": [
    "# splitting data matrix into per class data matrices\n",
    "sampled_train_X = sampled_train_X.T\n",
    "sampled_test_X = sampled_test_X.T\n",
    "X_0 = sampled_train_X[sampled_train_Y == 0].T\n",
    "X_1 = sampled_train_X[sampled_train_Y == 1].T\n",
    "X_2 = sampled_train_X[sampled_train_Y == 2].T\n",
    "mean_fda_0 = np.zeros((784,))\n",
    "mean_fda_1 = np.zeros((784,))\n",
    "mean_fda_2 = np.zeros((784,))\n",
    "for i in range(100):\n",
    "    mean_fda_0 += X_0[:,i]\n",
    "    mean_fda_1 += X_1[:,i]\n",
    "    mean_fda_2 += X_2[:,i]\n",
    "mean_fda_0/=100.0\n",
    "mean_fda_1/=100.0\n",
    "mean_fda_2/=100.0\n",
    "global_mean = (mean_fda_0+mean_fda_1+mean_fda_2)/3.0\n",
    "# making the within class scatter matrix\n",
    "S_w = np.zeros((784,784))\n",
    "for i in range(100):\n",
    "    S_w += (X_0[:,i] - mean_fda_0) @ (X_0[:,i] - mean_fda_0).T\n",
    "for i in range(100):\n",
    "    S_w += (X_1[:,i] - mean_fda_1) @ (X_1[:,i] - mean_fda_1).T\n",
    "for i in range(100):\n",
    "    S_w += (X_2[:,i] - mean_fda_2) @ (X_2[:,i] - mean_fda_2).T\n",
    "S_b = (mean_fda_0.reshape(784,1) - mean_fda_1.reshape(784,1)) @ (mean_fda_0.reshape(784,1) - mean_fda_1.reshape(784,1)).T + (mean_fda_1.reshape(784,1) - mean_fda_2.reshape(784,1)) @ (mean_fda_1.reshape(784,1) - mean_fda_2.reshape(784,1)).T + (mean_fda_0.reshape(784,1) - mean_fda_2.reshape(784,1)) @ (mean_fda_0.reshape(784,1) - mean_fda_2.reshape(784,1)).T"
   ]
  },
  {
   "cell_type": "code",
   "execution_count": null,
   "id": "ffbb1de9-5c1c-4d4d-b619-8c63b267c929",
   "metadata": {},
   "outputs": [],
   "source": [
    "eigvals, eigvecs = eigh(S_b, S_w+0.00001*np.eye(784), eigvals_only=False)\n",
    "# Sorting eigenvalues in descending order and reordering eigenvectors\n",
    "sorted_indices = np.argsort(eigvals)[::-1]  # Get indices in descending order\n",
    "eigvals = eigvals[sorted_indices]  # Sort eigenvalues\n",
    "eigvecs = eigvecs[:, sorted_indices]  # Sort eigenvectors accordingly\n",
    "# since c-1 = 3-1 = 2 , we choose the 2 highest eigenvectors\n",
    "W = eigvecs[:,:2]\n"
   ]
  },
  {
   "cell_type": "code",
   "execution_count": 34,
   "id": "652dcb5b-40a8-427f-927d-bb2c40d8db9a",
   "metadata": {},
   "outputs": [],
   "source": [
    "X_0_test = sampled_test_X[sampled_test_Y == 0].T\n",
    "X_1_test = sampled_test_X[sampled_test_Y == 1].T\n",
    "X_2_test = sampled_test_X[sampled_test_Y == 2].T"
   ]
  },
  {
   "cell_type": "code",
   "execution_count": 35,
   "id": "6de2467e-3c48-4758-a2b6-abfaae153b30",
   "metadata": {},
   "outputs": [],
   "source": [
    "# applying FDA on train set and test set\n",
    "FDA_0 = W.T @ X_0\n",
    "FDA_1 = W.T @ X_1\n",
    "FDA_2 = W.T @ X_2\n",
    "mean_FDA_0 , cov_FDA_0 = compute_mean_and_covariance(FDA_0)\n",
    "mean_FDA_1 , cov_FDA_1 = compute_mean_and_covariance(FDA_1)\n",
    "mean_FDA_2 , cov_FDA_2 = compute_mean_and_covariance(FDA_2)"
   ]
  },
  {
   "cell_type": "code",
   "execution_count": 36,
   "id": "2da72065-3e7b-4e32-8b1d-63e1e5fea73e",
   "metadata": {},
   "outputs": [],
   "source": [
    "sampled_train_X = sampled_train_X.T\n",
    "sampled_test_X = sampled_test_X.T"
   ]
  },
  {
   "cell_type": "code",
   "execution_count": 37,
   "id": "8df9e52e-9631-48bb-8344-c160190739aa",
   "metadata": {},
   "outputs": [],
   "source": [
    "sampled_train_X_FDA = W.T @ sampled_train_X\n",
    "sampled_test_X_FDA = W.T @ sampled_test_X"
   ]
  },
  {
   "cell_type": "code",
   "execution_count": 38,
   "id": "43a9b353-6b61-4691-ba57-83d0f27b6b36",
   "metadata": {},
   "outputs": [
    {
     "name": "stdout",
     "output_type": "stream",
     "text": [
      "0.94 0.91\n"
     ]
    }
   ],
   "source": [
    "# applying lDA on FDA'd train set and test set\n",
    "cov_LDA_FDA = cov_FDA_0 + cov_FDA_1 + cov_FDA_2\n",
    "cov_LDA_FDA/=3.0\n",
    "accuracy_LDA_FDA_train = 0\n",
    "accuracy_LDA_FDA_test = 0\n",
    "for i in range(300):\n",
    "        g0 = gi_LDA_case2(mean_FDA_0, cov_LDA_FDA, sampled_train_X_FDA[:,i])\n",
    "        g1 = gi_LDA_case2(mean_FDA_1, cov_LDA_FDA, sampled_train_X_FDA[:,i])\n",
    "        g2 = gi_LDA_case2(mean_FDA_2, cov_LDA_FDA, sampled_train_X_FDA[:,i])\n",
    "        \n",
    "        predicted_class = np.argmax([g0, g1, g2])\n",
    "        true_class = sampled_train_Y[i]  # Assuming a function to get true labels\n",
    "        \n",
    "        if predicted_class == true_class:\n",
    "            accuracy_LDA_FDA_train += 1\n",
    "        g0 = gi_LDA_case2(mean_FDA_0, cov_LDA_FDA, sampled_test_X_FDA[:,i])\n",
    "        g1 = gi_LDA_case2(mean_FDA_1, cov_LDA_FDA, sampled_test_X_FDA[:,i])\n",
    "        g2 = gi_LDA_case2(mean_FDA_2, cov_LDA_FDA, sampled_test_X_FDA[:,i])\n",
    "        \n",
    "        predicted_class = np.argmax([g0, g1, g2])\n",
    "        true_class = sampled_test_Y[i]  # Assuming a function to get true labels\n",
    "        \n",
    "        if predicted_class == true_class:\n",
    "            accuracy_LDA_FDA_test += 1\n",
    "accuracy_LDA_FDA_train /= 300\n",
    "accuracy_LDA_FDA_test /= 300\n",
    "print(accuracy_LDA_FDA_train , accuracy_LDA_FDA_test)"
   ]
  },
  {
   "cell_type": "code",
   "execution_count": 39,
   "id": "956dba17-8147-429d-881a-816096f502ca",
   "metadata": {},
   "outputs": [
    {
     "name": "stdout",
     "output_type": "stream",
     "text": [
      "0.9533333333333334 0.9333333333333333\n"
     ]
    }
   ],
   "source": [
    "# applying QDA on FDA'd test set\n",
    "accuracy_QDA_FDA_test = 0\n",
    "accuracy_QDA_FDA_train = 0\n",
    "for i in range(300):\n",
    "        g0 = gi_QDA_case3(mean_FDA_0, cov_FDA_0, sampled_train_X_FDA[:,i])\n",
    "        g1 = gi_QDA_case3(mean_FDA_1, cov_FDA_1, sampled_train_X_FDA[:,i])\n",
    "        g2 = gi_QDA_case3(mean_FDA_2, cov_FDA_2, sampled_train_X_FDA[:,i])\n",
    "        \n",
    "        predicted_class = np.argmax([g0, g1, g2])\n",
    "        true_class = sampled_train_Y[i]  # Assuming a function to get true labels\n",
    "        \n",
    "        if predicted_class == true_class:\n",
    "            accuracy_QDA_FDA_train += 1\n",
    "        g0 = gi_QDA_case3(mean_FDA_0, cov_FDA_0, sampled_test_X_FDA[:,i])\n",
    "        g1 = gi_QDA_case3(mean_FDA_1, cov_FDA_1, sampled_test_X_FDA[:,i])\n",
    "        g2 = gi_QDA_case3(mean_FDA_2, cov_FDA_2, sampled_test_X_FDA[:,i])\n",
    "        \n",
    "        predicted_class = np.argmax([g0, g1, g2])\n",
    "        true_class = sampled_test_Y[i]  # Assuming a function to get true labels\n",
    "        \n",
    "        if predicted_class == true_class:\n",
    "            accuracy_QDA_FDA_test += 1\n",
    "accuracy_QDA_FDA_test /= 300\n",
    "accuracy_QDA_FDA_train /= 300\n",
    "print(accuracy_QDA_FDA_train,accuracy_QDA_FDA_test)"
   ]
  },
  {
   "cell_type": "markdown",
   "id": "1ac262fc-6440-472f-bf33-fde5cac312ce",
   "metadata": {},
   "source": [
    "## DISPLAYING DATA"
   ]
  },
  {
   "cell_type": "markdown",
   "id": "4a64e0ba-8687-4ce7-a741-d3303cd04d2a",
   "metadata": {},
   "source": [
    "### DISPLAYING FDA'D DATA (2 dimensions)"
   ]
  },
  {
   "cell_type": "code",
   "execution_count": 40,
   "id": "055b9cdd-ca80-4267-99e5-463836a6f2f4",
   "metadata": {},
   "outputs": [
    {
     "data": {
      "image/png": "[encoded data removed]",
      "text/plain": [
       "<Figure size 800x600 with 1 Axes>"
      ]
     },
     "metadata": {},
     "output_type": "display_data"
    }
   ],
   "source": [
    "\n",
    "\n",
    "# Assuming W.T @ X_* results in a 2x100 matrix\n",
    "# Concatenating all data matrices for plotting\n",
    "FDA_all = np.hstack([FDA_0, FDA_1, FDA_2])  # Shape: (2, 300)\n",
    "labels = sampled_train_Y  # Shape: (300,)\n",
    "\n",
    "# Define colors for each class\n",
    "colors = ['red', 'blue', 'green']\n",
    "class_labels = np.unique(labels)  # Unique class labels\n",
    "\n",
    "# Plotting\n",
    "plt.figure(figsize=(8, 6))\n",
    "for i, class_label in enumerate(class_labels):\n",
    "    indices = np.where(labels == class_label)[0]\n",
    "    plt.scatter(FDA_all[0, indices], FDA_all[1, indices], \n",
    "                color=colors[i], label=f'Class {class_label}', alpha=0.7)\n",
    "\n",
    "plt.xlabel('FDA Component 1')\n",
    "plt.ylabel('FDA Component 2')\n",
    "plt.title('FDA Projected Data')\n",
    "plt.legend()\n",
    "plt.grid()\n",
    "plt.show()\n"
   ]
  },
  {
   "cell_type": "markdown",
   "id": "c15712d1-5bd8-47eb-aa38-2872e4d529bb",
   "metadata": {},
   "source": [
    "### DISPLAYING PCA'D DATA (WHERE ONLY FIRST 2 PRINCIPAL COMPONENTS USED)"
   ]
  },
  {
   "cell_type": "code",
   "execution_count": 41,
   "id": "ef282a1f-842e-4d63-89bb-648ebb14338e",
   "metadata": {},
   "outputs": [
    {
     "name": "stderr",
     "output_type": "stream",
     "text": [
      "C:\\Users\\gulat_4p\\anaconda3\\Lib\\site-packages\\matplotlib\\collections.py:153: ComplexWarning: Casting complex values to real discards the imaginary part\n",
      "  offsets = np.asanyarray(offsets, float)\n"
     ]
    },
    {
     "data": {
      "image/png": "[encoded data removed]",
      "text/plain": [
       "<Figure size 800x600 with 1 Axes>"
      ]
     },
     "metadata": {},
     "output_type": "display_data"
    }
   ],
   "source": [
    "# Assuming Y_PCA is of shape (2, 300)# Labels are in sampled_train_Y of shape (300,)\n",
    "\n",
    "# Define unique labels and corresponding colors\n",
    "unique_labels = np.unique(sampled_train_Y)\n",
    "colors = ['red', 'blue', 'green', 'purple', 'orange']  # Adjust if more classes exist\n",
    "\n",
    "# Plotting\n",
    "plt.figure(figsize=(8, 6))\n",
    "for i, label in enumerate(unique_labels):\n",
    "    indices = np.where(sampled_train_Y == label)[0]  # Find indices for the class\n",
    "    plt.scatter(Y_PCA[0, indices], Y_PCA[1, indices], \n",
    "\n",
    "\n",
    "                \n",
    "                color=colors[i % len(colors)], label=f'Class {label}', alpha=0.7)\n",
    "\n",
    "plt.xlabel('PCA Component 1')\n",
    "plt.ylabel('PCA Component 2')\n",
    "plt.title('PCA Projected Data')\n",
    "plt.legend()\n",
    "plt.grid()\n",
    "plt.show()\n"
   ]
  }
 ],
 "metadata": {
  "kernelspec": {
   "display_name": "Python 3 (ipykernel)",
   "language": "python",
   "name": "python3"
  },
  "language_info": {
   "codemirror_mode": {
    "name": "ipython",
    "version": 3
   },
   "file_extension": ".py",
   "mimetype": "text/x-python",
   "name": "python",
   "nbconvert_exporter": "python",
   "pygments_lexer": "ipython3",
   "version": "3.11.7"
  }
 },
 "nbformat": 4,
 "nbformat_minor": 5
}
